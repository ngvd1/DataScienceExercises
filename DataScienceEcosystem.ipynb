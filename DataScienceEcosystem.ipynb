{
 "cells": [
  {
   "cell_type": "raw",
   "id": "3f21fe70-cbe9-4163-8472-f1c8f9c87d31",
   "metadata": {},
   "source": [
    "Exercise 2: Create markdown cell with title of the notebook"
   ]
  },
  {
   "cell_type": "markdown",
   "id": "9b1fb4c5-9624-4e67-907b-ffcc5b049137",
   "metadata": {},
   "source": [
    "# Data Science Tools and Ecosystem"
   ]
  },
  {
   "cell_type": "markdown",
   "id": "7e14d5dd-ad48-4289-bfca-706aa6e66025",
   "metadata": {},
   "source": [
    "# Data Science Tools and Ecosystem"
   ]
  },
  {
   "cell_type": "raw",
   "id": "d84e01f3-b804-42f1-aaa4-ecb679108ebb",
   "metadata": {},
   "source": [
    "Exercise 3 - Create a markdown cell for an introduction"
   ]
  },
  {
   "cell_type": "markdown",
   "id": "1b0a4777-fdfb-4420-9b88-dcd30bafb68d",
   "metadata": {},
   "source": [
    "In this notebook, Data Science Tools and Ecosystem are summarized."
   ]
  },
  {
   "cell_type": "markdown",
   "id": "aa8ff508-891e-4815-9c7d-8179af881757",
   "metadata": {},
   "source": [
    "In this notebook, Data Science Tools and Ecosystem are summarized."
   ]
  },
  {
   "cell_type": "raw",
   "id": "cba88c45-09c5-4597-9030-277554305264",
   "metadata": {},
   "source": [
    "Exercise 4 - Create a markdown cell to list data science languages"
   ]
  },
  {
   "cell_type": "markdown",
   "id": "566b2f01-d34a-4881-8d73-1f0fe5daffc8",
   "metadata": {},
   "source": [
    "Some of the popular languages that Data Scientists use are:\n",
    "1. Python\n",
    "2. R\n",
    "3. SQL"
   ]
  },
  {
   "cell_type": "markdown",
   "id": "f85566c1-84b9-44ef-bbad-8e155659d6dd",
   "metadata": {},
   "source": [
    "Some of the popular languages that Data Scientists use are:\n",
    "1. Python\n",
    "2. R\n",
    "3. SQL"
   ]
  },
  {
   "cell_type": "raw",
   "id": "9464ec1b-e168-47f2-a9a4-b1dbc8536db6",
   "metadata": {},
   "source": [
    "Exercise 5: Create a markdown cell to list data science libraries"
   ]
  },
  {
   "cell_type": "markdown",
   "id": "67343920-0b6b-43c0-bf0e-fb5b60d0a3d0",
   "metadata": {},
   "source": [
    "Some of the commonly used libraries used by Data Scientists include:\n",
    "1. Pandas\n",
    "2. NumPy\n",
    "3. Matplotlib"
   ]
  },
  {
   "cell_type": "markdown",
   "id": "16f651f5-e548-4240-9e3a-9a1c91e37054",
   "metadata": {},
   "source": [
    "Some of the commonly used libraries used by Data Scientists include:\n",
    "1. Pandas\n",
    "2. NumPy\n",
    "3. Matplotlib"
   ]
  },
  {
   "cell_type": "raw",
   "id": "382dd32d-d944-439a-8c9c-65c2ef7fbffc",
   "metadata": {},
   "source": [
    "Exercise 6: Create a markdown cell with a table of Data Science tools"
   ]
  },
  {
   "cell_type": "markdown",
   "id": "f9b09e21-3ffe-4667-8df3-a2a5895eccdc",
   "metadata": {},
   "source": [
    "| Data Science Tools |\n",
    "|--------------------|\n",
    "| Jupyter Notebook    |\n",
    "| RStudio             |\n",
    "| Apache Zeppelin     |\n"
   ]
  },
  {
   "cell_type": "markdown",
   "id": "d90f6844-f373-4a7f-a9ea-09605fde2586",
   "metadata": {},
   "source": [
    "| Data Science Tools |\n",
    "|--------------------|\n",
    "| Jupyter Notebook    |\n",
    "| RStudio             |\n",
    "| Apache Zeppelin     |"
   ]
  },
  {
   "cell_type": "raw",
   "id": "ce5fd2cd-e3db-4701-9b6d-ac9293302005",
   "metadata": {},
   "source": [
    "Exercise 7: Create a markdown cell introducing arithmetic expression examples"
   ]
  },
  {
   "cell_type": "markdown",
   "id": "1c94e144-27f6-4a2b-8131-426e001d4589",
   "metadata": {},
   "source": [
    "### Below are a few examples of evaluating arithmetic expressions in Python."
   ]
  },
  {
   "cell_type": "markdown",
   "id": "ce8e0c0c-f779-474b-aec7-caaf28dabdda",
   "metadata": {},
   "source": [
    "### Below are a few examples of evaluating arithmetic expressions in Python."
   ]
  },
  {
   "cell_type": "raw",
   "id": "3b704b63-3674-4e84-b269-44e6392be8a1",
   "metadata": {},
   "source": [
    "Exercise 8: Create a code cell to multiply and add numbers"
   ]
  },
  {
   "cell_type": "code",
   "execution_count": 3,
   "id": "ddb7a363-2a98-4cd3-8b13-d180a718bbba",
   "metadata": {
    "tags": []
   },
   "outputs": [
    {
     "data": {
      "text/plain": [
       "17"
      ]
     },
     "execution_count": 3,
     "metadata": {},
     "output_type": "execute_result"
    }
   ],
   "source": [
    "# This is a simple arithmetic expression to multiply then add integers\n",
    "(3*4)+5"
   ]
  },
  {
   "cell_type": "raw",
   "id": "6a380b64-2c22-41ba-8eda-ac96cec6f886",
   "metadata": {},
   "source": [
    "Exercise 9: Create a code cell to convert minutes to hours\n"
   ]
  },
  {
   "cell_type": "code",
   "execution_count": 4,
   "id": "4d874a0c-8b9d-466e-acce-ad718f69bc0a",
   "metadata": {
    "tags": []
   },
   "outputs": [
    {
     "data": {
      "text/plain": [
       "3.3333333333333335"
      ]
     },
     "execution_count": 4,
     "metadata": {},
     "output_type": "execute_result"
    }
   ],
   "source": [
    "# This will convert 200 minutes to hours by dividing by 60\n",
    "200 / 60"
   ]
  },
  {
   "cell_type": "raw",
   "id": "40d3b74c-ea9c-4677-a9bf-b855cec53bbe",
   "metadata": {},
   "source": [
    "Exercise 10: Insert a markdown cell to list objectives"
   ]
  },
  {
   "cell_type": "markdown",
   "id": "51616161-9579-4584-9104-65853bd62993",
   "metadata": {},
   "source": [
    "**Objectives:**\n",
    "- List popular languages for Data Science\n",
    "- List commonly used libraries in Data Science\n",
    "- Create examples of arithmetic expressions"
   ]
  },
  {
   "cell_type": "markdown",
   "id": "af1c1640-91b3-4757-a773-d5f3590c676e",
   "metadata": {},
   "source": [
    "**Objectives:**\n",
    "- List popular languages for Data Science\n",
    "- List commonly used libraries in Data Science\n",
    "- Create examples of arithmetic expressions"
   ]
  },
  {
   "cell_type": "raw",
   "id": "8f9d96b3-d5b0-4573-8839-7f8b2e802211",
   "metadata": {},
   "source": [
    "Exercise 11: Create a markdown cell to indicate the Author's name\n"
   ]
  },
  {
   "cell_type": "markdown",
   "id": "4a837171-d0c0-434d-ae07-1cd0b0300dfb",
   "metadata": {},
   "source": [
    "## Author\n",
    "Dat Nguyen"
   ]
  },
  {
   "cell_type": "markdown",
   "id": "b8bd6f93-9d89-4747-9057-3817c64eea4e",
   "metadata": {},
   "source": [
    "## Author\n",
    "Dat Nguyen\n"
   ]
  },
  {
   "cell_type": "code",
   "execution_count": null,
   "id": "79dd648a-e649-445d-ae50-fc0f1eea381b",
   "metadata": {},
   "outputs": [],
   "source": []
  }
 ],
 "metadata": {
  "kernelspec": {
   "display_name": "Python",
   "language": "python",
   "name": "conda-env-python-py"
  },
  "language_info": {
   "codemirror_mode": {
    "name": "ipython",
    "version": 3
   },
   "file_extension": ".py",
   "mimetype": "text/x-python",
   "name": "python",
   "nbconvert_exporter": "python",
   "pygments_lexer": "ipython3",
   "version": "3.7.12"
  }
 },
 "nbformat": 4,
 "nbformat_minor": 5
}
